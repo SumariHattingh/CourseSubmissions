{
 "cells": [
  {
   "cell_type": "markdown",
   "id": "2e150f37",
   "metadata": {},
   "source": [
    "##### Exericise 2: Create a title for this notebook"
   ]
  },
  {
   "cell_type": "markdown",
   "id": "28953f7a",
   "metadata": {},
   "source": [
    "# Data Science Tools and Ecosystem"
   ]
  },
  {
   "cell_type": "markdown",
   "id": "4313349f",
   "metadata": {},
   "source": [
    "##### Exercise 11: Create a markdown cell for the author of this notebook"
   ]
  },
  {
   "cell_type": "markdown",
   "id": "aebfe68f",
   "metadata": {},
   "source": [
    "## Author\n",
    "Sumari Hattingh Van Niekerk"
   ]
  },
  {
   "cell_type": "markdown",
   "id": "6ad244ce",
   "metadata": {},
   "source": [
    "##### Exercise 3: Create an introduction for this notebook"
   ]
  },
  {
   "cell_type": "markdown",
   "id": "08399ecb",
   "metadata": {},
   "source": [
    "In this notebook, Data Science Tools and Ecosystem are summarised."
   ]
  },
  {
   "cell_type": "markdown",
   "id": "f8e0beab",
   "metadata": {},
   "source": [
    "##### Exercise 10: List the objectives"
   ]
  },
  {
   "cell_type": "markdown",
   "id": "6eba2dd0",
   "metadata": {},
   "source": [
    "**Objectives of this assignment**\n",
    "\n",
    "* Be able to create a Jupyter Notebook, use code and markdown cells, and share the notebook via GitHub \n",
    "* List popular programming languages for Data Science\n",
    "* List commonly used libraries for Data Science\n",
    "* List three Data Science Tools\n",
    "* Provide examples of simple arithmetic expressions in Python"
   ]
  },
  {
   "cell_type": "markdown",
   "id": "4b8e40af",
   "metadata": {},
   "source": [
    "##### Exercise 4: List data science languages"
   ]
  },
  {
   "cell_type": "markdown",
   "id": "b5f65253",
   "metadata": {},
   "source": [
    "Popular and most common programming languages that Data Scientists use, are (in no particular order):\n",
    "\n",
    "1. Python\n",
    "2. R\n",
    "3. SQL\n",
    "4. Scala\n",
    "5. Java\n",
    "6. C++\n",
    "7. Julia"
   ]
  },
  {
   "cell_type": "markdown",
   "id": "2dc23d58",
   "metadata": {},
   "source": [
    "##### Exercise 5: List data science libraries"
   ]
  },
  {
   "cell_type": "markdown",
   "id": "20a189d0",
   "metadata": {},
   "source": [
    "Some of the commonly used libraries used by Data Scientists include:\n",
    "\n",
    "1. Python - Pandas, NumPy, SciPy, Matplotlib\n",
    "2. R - Dplyr, Ggplot2, Leaflet, Caret\n",
    "3. SQL - SQLC, SQLX, DBR, Jet\n",
    "4. Scala - Udash, ScalaTags, Widok, ScalaCSS\n",
    "5. Java - Apache Commons, Jackson, Maven, JAXB\n",
    "6. C++ - id3lib, libsndfile, curlpp, netif\n",
    "7. Julia - Pluto, Plots, Flux, Makie"
   ]
  },
  {
   "cell_type": "markdown",
   "id": "f4959781",
   "metadata": {},
   "source": [
    "##### Exercise 6: List data science tools"
   ]
  },
  {
   "cell_type": "markdown",
   "id": "9b7d0fbc",
   "metadata": {},
   "source": [
    "\n",
    "| Data Science Tools |\n",
    "| ------------- | \n",
    "| Pandas | \n",
    "| Hadoop | \n",
    "| Spark | \n",
    "| TensorFlow | \n",
    "| Ggplot2 | "
   ]
  },
  {
   "cell_type": "markdown",
   "id": "4b9ccfc8",
   "metadata": {},
   "source": [
    "##### Exercise 7: Introduce arithmetic expression examples"
   ]
  },
  {
   "cell_type": "markdown",
   "id": "d9759e9e",
   "metadata": {},
   "source": [
    "### Below are a few examples of evaluating arithmetic expressions in Python"
   ]
  },
  {
   "cell_type": "markdown",
   "id": "b18a4f4d",
   "metadata": {},
   "source": [
    "##### Exercise 8: Create a code to multiply and add numbers"
   ]
  },
  {
   "cell_type": "code",
   "execution_count": 2,
   "id": "6aae646a",
   "metadata": {},
   "outputs": [
    {
     "data": {
      "text/plain": [
       "17"
      ]
     },
     "execution_count": 2,
     "metadata": {},
     "output_type": "execute_result"
    }
   ],
   "source": [
    "#This is a simple arithmetic expression to multiple then add integers\n",
    "(3 * 4) + 5"
   ]
  },
  {
   "cell_type": "code",
   "execution_count": 15,
   "id": "84095fa9",
   "metadata": {},
   "outputs": [
    {
     "name": "stdout",
     "output_type": "stream",
     "text": [
      "The answer to multiplying 3 and f4, and then adding 5, is equals to 17 .\n"
     ]
    }
   ],
   "source": [
    "#It can also be typed like this\n",
    "x = (3 * 4) + 5\n",
    "print(\"The answer to multiplying 3 and f4, and then adding 5, is equals to\", x, \".\")"
   ]
  },
  {
   "cell_type": "markdown",
   "id": "c064cafe",
   "metadata": {},
   "source": [
    "##### Exercise 9: Create a code to convert minutes into hours"
   ]
  },
  {
   "cell_type": "code",
   "execution_count": 4,
   "id": "d7dd0cb4",
   "metadata": {},
   "outputs": [
    {
     "data": {
      "text/plain": [
       "3.3333333333333335"
      ]
     },
     "execution_count": 4,
     "metadata": {},
     "output_type": "execute_result"
    }
   ],
   "source": [
    "#This will convert 200 minutes to hours by dividing by 60\n",
    "(200 / 60)"
   ]
  },
  {
   "cell_type": "code",
   "execution_count": 16,
   "id": "67c0dc85",
   "metadata": {},
   "outputs": [
    {
     "name": "stdout",
     "output_type": "stream",
     "text": [
      "Converting 200 minutes to hours can be done by dividing 200 by 60, which is equals to 3.3333333333333335 hours.\n"
     ]
    }
   ],
   "source": [
    "#It can also be typed like this\n",
    "x = (200 / 60)\n",
    "print(\"Converting 200 minutes to hours can be done by dividing 200 by 60, which is equals to\", x, \"hours.\")"
   ]
  }
 ],
 "metadata": {
  "kernelspec": {
   "display_name": "Python 3 (ipykernel)",
   "language": "python",
   "name": "python3"
  },
  "language_info": {
   "codemirror_mode": {
    "name": "ipython",
    "version": 3
   },
   "file_extension": ".py",
   "mimetype": "text/x-python",
   "name": "python",
   "nbconvert_exporter": "python",
   "pygments_lexer": "ipython3",
   "version": "3.10.7"
  }
 },
 "nbformat": 4,
 "nbformat_minor": 5
}
